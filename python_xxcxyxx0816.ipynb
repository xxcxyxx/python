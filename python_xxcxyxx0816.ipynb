{
  "nbformat": 4,
  "nbformat_minor": 0,
  "metadata": {
    "colab": {
      "name": "python_xxcxyxx0816.ipynb",
      "provenance": [],
      "collapsed_sections": [],
      "toc_visible": true,
      "authorship_tag": "ABX9TyNlAVZGLWvFw0b6jwH1Ym2d",
      "include_colab_link": true
    },
    "kernelspec": {
      "name": "python3",
      "display_name": "Python 3"
    },
    "language_info": {
      "name": "python"
    }
  },
  "cells": [
    {
      "cell_type": "markdown",
      "metadata": {
        "id": "view-in-github",
        "colab_type": "text"
      },
      "source": [
        "<a href=\"https://colab.research.google.com/github/xxcxyxx/python/blob/main/python_xxcxyxx0816.ipynb\" target=\"_parent\"><img src=\"https://colab.research.google.com/assets/colab-badge.svg\" alt=\"Open In Colab\"/></a>"
      ]
    },
    {
      "cell_type": "markdown",
      "source": [
        "# 조건문, 함수 "
      ],
      "metadata": {
        "id": "ao0D-JZpmjAN"
      }
    },
    {
      "cell_type": "markdown",
      "source": [
        "컴퓨터와 함께하는 가위바위보 게임\n",
        "조건1 : 함수의 인자로는 나의 가위바위보 선택이 들어감\n",
        "          (0, 1 ,2 혹은 \"가위\", \"바위\", \"보\" 로 입력가능. - 총 6가지 방법으로 넣을 수 있음)\n",
        "\n",
        "조건2 : 누가 무엇을 냈고, 누가 승리 했는지 출력이 되어야 함 -->\n",
        "\n",
        " "
      ],
      "metadata": {
        "id": "2cNZESGJmiT5"
      }
    },
    {
      "cell_type": "code",
      "source": [
        "import random\n",
        "rspTable = ('가위', '바위', '보')\n",
        "\n",
        "class RspGame:\n",
        "  def __init__(self):\n",
        "    self.computer = random.randint(0, 2)\n",
        "    self.user = input(\"안 내면 진다! 가위(0), 바위(1), 보(2)! : \")\n",
        "    self.check_user()\n",
        "    self.get_rsp()\n",
        "\n",
        "  def check_user(self):  \n",
        "    try:                              #사용자 입력값을 숫자로 변경\n",
        "      self.user = int(self.user)\n",
        "    except ValueError:\n",
        "      for indexRsp in range(3):\n",
        "        if rspTable[indexRsp] == self.user:\n",
        "          self.user = indexRsp\n",
        "          break\n",
        "        \n",
        "  def get_rsp(self):\n",
        "    try:                              #사용자가 범위 내의 입력값을 넣었는지 확인       \n",
        "      userValue = rspTable[self.user]\n",
        "    except TypeError:\n",
        "      print(\"가위, 바위, 보 또는 0, 1, 2 중에서 입력해주세요\")\n",
        "    except IndexError:\n",
        "      print(\"가위, 바위, 보 또는 0, 1, 2 중에서 입력해주세요\")\n",
        "    else:                             #옳은 범위일 경우 가위바위보를 시행\n",
        "      print(\"사용자 : {} \\n컴퓨터 : {}\".format(rspTable[self.user], rspTable[self.computer]))\n",
        "      if self.user == self.computer: print(\"비김!\")\n",
        "      elif rspTable[self.user] == rspTable[self.computer - 1]: print(\"컴퓨터 승리!\")\n",
        "      else: print(\"사용자 승리!\")\n",
        "\n",
        "a = RspGame()"
      ],
      "metadata": {
        "colab": {
          "base_uri": "https://localhost:8080/"
        },
        "id": "ZE5tdft6myDP",
        "outputId": "86562264-7c67-4ecb-f777-574bad1cae19"
      },
      "execution_count": 3,
      "outputs": [
        {
          "output_type": "stream",
          "name": "stdout",
          "text": [
            "안 내면 진다! 가위(0), 바위(1), 보(2)! : 가위\n",
            "사용자 : 가위 \n",
            "컴퓨터 : 보\n",
            "사용자 승리!\n"
          ]
        }
      ]
    },
    {
      "cell_type": "code",
      "source": [
        "grade_table = ((95, 90, 85, 80, 75, 70, 65, 60),         #{index} 점 이상일 때 {index} 학점 부여\n",
        "               ('A+', 'A', 'B+', 'B', 'C+', 'C', 'D+', 'D', 'F'))\n",
        "\n",
        "class grader:\n",
        "  def __init__(self, name, score):\n",
        "    self.name = str(name)\n",
        "    self.score = int(score)\n",
        "    self.grade = self.gradeRangeCheck()\n",
        "    print(\"학생 이름 : %s \\n점수 : %d점 \\n학점 : %s\" %(self.name, self.score, self.grade))\n",
        "\n",
        "  def gradeRangeCheck(self):\n",
        "    indexGrade = 0\n",
        "    for indexScore in grade_table[0]:\n",
        "      if self.score < indexScore:\n",
        "        indexGrade += 1\n",
        "      else: break\n",
        "    return grade_table[1][indexGrade]\n",
        "\n",
        "a = grader(\"chaeyoung\", 90)"
      ],
      "metadata": {
        "colab": {
          "base_uri": "https://localhost:8080/"
        },
        "id": "hxZUlndFp2th",
        "outputId": "cff75c21-8e40-48cd-c286-8e39907841cc"
      },
      "execution_count": 5,
      "outputs": [
        {
          "output_type": "stream",
          "name": "stdout",
          "text": [
            "학생 이름 : chaeyoung \n",
            "점수 : 90점 \n",
            "학점 : A\n"
          ]
        }
      ]
    }
  ]
}